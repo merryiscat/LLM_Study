{
 "cells": [
  {
   "cell_type": "code",
   "execution_count": 1,
   "id": "fadc8e6a-e528-4491-abf4-e1561a12708e",
   "metadata": {},
   "outputs": [
    {
     "data": {
      "text/plain": [
       "True"
      ]
     },
     "execution_count": 1,
     "metadata": {},
     "output_type": "execute_result"
    }
   ],
   "source": [
    "# API KEY를 환경변수로 관리하기 위한 설정 파일\n",
    "from dotenv import load_dotenv\n",
    "\n",
    "# API KEY 정보로드\n",
    "load_dotenv()"
   ]
  },
  {
   "cell_type": "code",
   "execution_count": 2,
   "id": "d22505fa-11a3-4707-8ac1-2cddb1ba6a87",
   "metadata": {},
   "outputs": [
    {
     "name": "stdout",
     "output_type": "stream",
     "text": [
      "LangSmith 추적을 시작합니다.\n",
      "[프로젝트명]\n",
      "주식분석\n"
     ]
    }
   ],
   "source": [
    "from langchain_teddynote import logging\n",
    "\n",
    "# 프로젝트 이름을 입력합니다.\n",
    "logging.langsmith(\"주식분석\")"
   ]
  },
  {
   "cell_type": "code",
   "execution_count": 3,
   "id": "442b9409-8f54-48e5-8fde-69745f855b57",
   "metadata": {},
   "outputs": [],
   "source": [
    "#네이버검색\n",
    "\n",
    "import os\n",
    "import requests\n",
    "\n",
    "class NaverSearchAPIWrapper:\n",
    "    def __init__(self):\n",
    "        self.client_id = os.getenv(\"NAVER_CLIENT_ID\")\n",
    "        self.client_secret = os.getenv(\"NAVER_CLIENT_SECRET\")\n",
    "        self.url = \"https://openapi.naver.com/v1/search/webkr.json\"\n",
    "\n",
    "    def run(self, query):\n",
    "        headers = {\n",
    "            \"X-Naver-Client-Id\": self.client_id,\n",
    "            \"X-Naver-Client-Secret\": self.client_secret\n",
    "        }\n",
    "        params = {\n",
    "            \"query\": query,\n",
    "            \"display\": 3  # 검색 결과 수\n",
    "        }\n",
    "        response = requests.get(self.url, headers=headers, params=params)\n",
    "        if response.status_code == 200:\n",
    "            items = response.json().get(\"items\", [])\n",
    "            results = [item['title'] + \" - \" + item['link'] for item in items]\n",
    "            return \"\\n\".join(results)\n",
    "        else:\n",
    "            return \"검색 실패: 상태 코드 \" + str(response.status_code)\n"
   ]
  },
  {
   "cell_type": "code",
   "execution_count": 4,
   "id": "8dc93308-f2cb-4f3f-be04-426ca7fd54dd",
   "metadata": {},
   "outputs": [
    {
     "ename": "ModuleNotFoundError",
     "evalue": "No module named 'web'",
     "output_type": "error",
     "traceback": [
      "\u001b[1;31m---------------------------------------------------------------------------\u001b[0m",
      "\u001b[1;31mModuleNotFoundError\u001b[0m                       Traceback (most recent call last)",
      "Cell \u001b[1;32mIn[4], line 6\u001b[0m\n\u001b[0;32m      4\u001b[0m \u001b[38;5;28;01mfrom\u001b[39;00m \u001b[38;5;21;01mlangchain\u001b[39;00m\u001b[38;5;21;01m.\u001b[39;00m\u001b[38;5;21;01membeddings\u001b[39;00m\u001b[38;5;21;01m.\u001b[39;00m\u001b[38;5;21;01mopenai\u001b[39;00m \u001b[38;5;28;01mimport\u001b[39;00m OpenAIEmbeddings\n\u001b[0;32m      5\u001b[0m \u001b[38;5;28;01mfrom\u001b[39;00m \u001b[38;5;21;01mlangchain\u001b[39;00m\u001b[38;5;21;01m.\u001b[39;00m\u001b[38;5;21;01mschema\u001b[39;00m \u001b[38;5;28;01mimport\u001b[39;00m Document\n\u001b[1;32m----> 6\u001b[0m \u001b[38;5;28;01mfrom\u001b[39;00m \u001b[38;5;21;01mweb\u001b[39;00m \u001b[38;5;28;01mimport\u001b[39;00m search  \u001b[38;5;66;03m# 웹 검색을 위한 모듈\u001b[39;00m\n\u001b[0;32m      8\u001b[0m \u001b[38;5;66;03m# 1. Stock Value Output 구조 정의\u001b[39;00m\n\u001b[0;32m      9\u001b[0m \u001b[38;5;28;01mclass\u001b[39;00m \u001b[38;5;21;01mStockValueOutput\u001b[39;00m(TypedDict):\n",
      "\u001b[1;31mModuleNotFoundError\u001b[0m: No module named 'web'"
     ]
    }
   ],
   "source": [
    "from typing import TypedDict, NotRequired\n",
    "from langchain.chat_models import ChatOpenAI\n",
    "from langchain.vectorstores import FAISS\n",
    "from langchain.embeddings.openai import OpenAIEmbeddings\n",
    "from langchain.schema import Document\n",
    "from web import search  # 웹 검색을 위한 모듈\n",
    "\n",
    "# 1. Stock Value Output 구조 정의\n",
    "class StockValueOutput(TypedDict):\n",
    "    Net_Income: NotRequired[str]  # 순이익\n",
    "    Shares_Outstanding: NotRequired[str]  # 발행주식수\n",
    "    Stock_Price: NotRequired[str]  # 주가\n",
    "    Book_Value: NotRequired[str]  # 자기자본\n",
    "    FCF: NotRequired[str]  # 자유현금흐름\n",
    "    EBIT: NotRequired[str]  # 영업이익\n",
    "    WACC: NotRequired[str]  # 할인율\n",
    "    PFCF: NotRequired[str]  # 미래 현금흐름\n",
    "    Growth_Rate: NotRequired[str]  # 성장률\n",
    "    DPS: NotRequired[str]  # 주당배당금\n",
    "    ROE: NotRequired[str]  # 자기자본이익률\n",
    "    PER: NotRequired[str]  # 주가수익비율\n",
    "    PBR: NotRequired[str]  # 주가순자산비율\n",
    "    DCF: NotRequired[str]  # 할인현금흐름\n",
    "    DDM: NotRequired[str]  # 배당할인모형\n",
    "\n",
    "# 2. LLM 및 Retriever 설정\n",
    "stock_value_model = ChatOpenAI(model=\"gpt-4o-mini\")\n",
    "\n",
    "# 3. 벡터 검색을 위한 Retriever 설정 (FAISS 활용)\n",
    "embedding_model = OpenAIEmbeddings()\n",
    "vector_db = FAISS.load_local(\"faiss_stock_db\", embedding_model)  # 로컬 FAISS 벡터 DB 불러오기\n",
    "retriever = vector_db.as_retriever(search_type=\"similarity\", search_kwargs={\"k\": 5})  # 유사한 문서 5개 검색\n",
    "\n",
    "# 4. Stock Value Calculation (RAG + 웹 검색 보완)\n",
    "def stock_value_calculation_node(state: dict):\n",
    "    user_input = state.get(\"user_input\", \"\")  # 안전하게 가져오기\n",
    "\n",
    "    # 1️⃣ RAG 검색 수행\n",
    "    retrieved_docs = retriever.get_relevant_documents(user_input)\n",
    "    retrieved_texts = \"\\n\".join([doc.page_content for doc in retrieved_docs])\n",
    "\n",
    "    # 2️⃣ RAG 결과에서 필요한 데이터 추출\n",
    "    extracted_data = {}\n",
    "    missing_fields = [\n",
    "        \"Net_Income\", \"Shares_Outstanding\", \"Stock_Price\", \"Book_Value\", \"FCF\",\n",
    "        \"EBIT\", \"WACC\", \"PFCF\", \"Growth_Rate\", \"DPS\", \"ROE\", \"PER\", \"PBR\", \"DCF\", \"DDM\"\n",
    "    ]\n",
    "\n",
    "    if retrieved_texts:\n",
    "        # LLM을 사용하여 검색된 정보에서 필요한 데이터 추출\n",
    "        messages = [\n",
    "            {\"role\": \"system\", \"content\": \"\"\"\n",
    "            다음은 검색된 관련 정보입니다. 이 정보를 분석하여 아래 항목에 해당하는 값을 추출하세요:\n",
    "            'Net_Income', 'Shares_Outstanding', 'Stock_Price', 'Book_Value', 'FCF',\n",
    "            'EBIT', 'WACC', 'PFCF', 'Growth_Rate', 'DPS', 'ROE', 'PER', 'PBR', 'DCF', 'DDM'.\n",
    "            \"\"\"},\n",
    "            {\"role\": \"system\", \"content\": f\"검색된 정보:\\n{retrieved_texts}\"},\n",
    "            {\"role\": \"user\", \"content\": \"위 항목의 값을 추출하여 JSON 형식으로 제공해 주세요.\"}\n",
    "        ]\n",
    "\n",
    "        extracted_data = stock_value_model.invoke(messages)  # LLM을 사용하여 데이터 추출\n",
    "\n",
    "        # RAG에서 추출된 값이 없는 항목을 필터링하여 웹 검색 목록 생성\n",
    "        missing_fields = [key for key in missing_fields if not extracted_data.get(key)]\n",
    "\n",
    "    # 3️⃣ RAG에서 찾지 못한 값만 웹 검색 수행\n",
    "    if missing_fields:\n",
    "        print(f\"🔍 웹 검색 수행 (필요한 값: {', '.join(missing_fields)})...\")\n",
    "        web_results = search(user_input + \" 재무제표 OR 반기보고서 OR 주식가치 관련 정보\")\n",
    "\n",
    "        if web_results:\n",
    "            retrieved_texts += \"\\n\" + \"\\n\".join(web_results[:3])  # 상위 3개 결과만 사용\n",
    "\n",
    "            # LLM을 활용하여 웹 검색 결과에서 부족한 데이터 추출\n",
    "            messages = [\n",
    "                {\"role\": \"system\", \"content\": f\"\"\"\n",
    "                다음은 추가 웹 검색 결과입니다. 기존 정보와 함께 부족한 데이터를 채워주세요:\n",
    "                {', '.join(missing_fields)}\n",
    "                \"\"\"},\n",
    "                {\"role\": \"system\", \"content\": f\"웹 검색 결과:\\n{retrieved_texts}\"},\n",
    "                {\"role\": \"user\", \"content\": \"부족한 값들을 JSON 형식으로 제공해 주세요.\"}\n",
    "            ]\n",
    "\n",
    "            web_extracted_data = stock_value_model.invoke(messages)\n",
    "            extracted_data.update(web_extracted_data)  # 웹 검색에서 얻은 데이터 추가\n",
    "\n",
    "    # 4️⃣ LLM이 최종 정리하여 답변 생성\n",
    "    messages = [\n",
    "        {\"role\": \"system\", \"content\": \"\"\"\n",
    "        당신은 유능한 금융 전문가입니다.\n",
    "        사용자의 입력을 기반으로 주식 가치를 평가하세요.\n",
    "        검색된 데이터를 참고하여 종합적인 분석을 제공합니다.\n",
    "        \"\"\"},\n",
    "        {\"role\": \"user\", \"content\": user_input},\n",
    "        {\"role\": \"system\", \"content\": f\"다음은 검색된 관련 정보입니다:\\n{retrieved_texts}\"},\n",
    "        {\"role\": \"system\", \"content\": f\"추출된 데이터:\\n{extracted_data}\"}\n",
    "    ]\n",
    "\n",
    "    response = stock_value_model.invoke(messages)\n",
    "\n",
    "    print(\"================================= Stock Value Calculation (RAG + 웹 검색 보완) =================================\")\n",
    "    print(f\"입력된 정보: {user_input}\")\n",
    "    print(f\"검색된 정보:\\n{retrieved_texts}\")\n",
    "    print(f\"최종 데이터: {extracted_data}\")\n",
    "    \n",
    "    return {\"stock_value_dict\": extracted_data, \"final_response\": response}"
   ]
  },
  {
   "cell_type": "code",
   "execution_count": null,
   "id": "285f2211-9ac6-462b-8412-0f6aa79a8e75",
   "metadata": {},
   "outputs": [],
   "source": []
  },
  {
   "cell_type": "code",
   "execution_count": null,
   "id": "2cacfe16-4526-45c9-9fe9-dcb726f4925f",
   "metadata": {},
   "outputs": [],
   "source": []
  }
 ],
 "metadata": {
  "kernelspec": {
   "display_name": "Python 3 (ipykernel)",
   "language": "python",
   "name": "python3"
  },
  "language_info": {
   "codemirror_mode": {
    "name": "ipython",
    "version": 3
   },
   "file_extension": ".py",
   "mimetype": "text/x-python",
   "name": "python",
   "nbconvert_exporter": "python",
   "pygments_lexer": "ipython3",
   "version": "3.12.7"
  }
 },
 "nbformat": 4,
 "nbformat_minor": 5
}
