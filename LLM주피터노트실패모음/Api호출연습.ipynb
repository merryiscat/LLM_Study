{
 "cells": [
  {
   "cell_type": "code",
   "execution_count": 1,
   "id": "24ccd9fa-5a50-40ff-a838-adc6a52af31e",
   "metadata": {},
   "outputs": [
    {
     "data": {
      "text/plain": [
       "True"
      ]
     },
     "execution_count": 1,
     "metadata": {},
     "output_type": "execute_result"
    }
   ],
   "source": [
    "# API KEY를 환경변수로 관리하기 위한 설정 파일\n",
    "from dotenv import load_dotenv\n",
    "\n",
    "# API KEY 정보로드\n",
    "load_dotenv()"
   ]
  },
  {
   "cell_type": "code",
   "execution_count": 2,
   "id": "dd7d2641-2ca1-4e9e-882f-82aff20720ed",
   "metadata": {},
   "outputs": [
    {
     "name": "stdout",
     "output_type": "stream",
     "text": [
      "LangSmith 추적을 시작합니다.\n",
      "[프로젝트명]\n",
      "주식분석\n"
     ]
    }
   ],
   "source": [
    "from langchain_teddynote import logging\n",
    "\n",
    "# 프로젝트 이름을 입력합니다.\n",
    "logging.langsmith(\"주식분석\")"
   ]
  },
  {
   "cell_type": "code",
   "execution_count": null,
   "id": "cbe78b9b-a632-4cdc-88df-11cd36e8faea",
   "metadata": {},
   "outputs": [
    {
     "name": "stdout",
     "output_type": "stream",
     "text": [
      "검색할 회사 이름을 입력하세요:  솔트룩스\n"
     ]
    },
    {
     "name": "stdout",
     "output_type": "stream",
     "text": [
      "\n",
      "검색 결과:\n",
      "           고유번호     정식명칭              영문명칭    종목코드     최종변경일\n",
      "53990  01604159  솔트룩스벤처스  Saltlux Ventures          20211222\n",
      "99934  01050738     솔트룩스       SALTLUX Inc  304100  20240328\n"
     ]
    }
   ],
   "source": [
    "import requests\n",
    "import zipfile\n",
    "import io\n",
    "import xml.etree.ElementTree as ET\n",
    "import pandas as pd\n",
    "\n",
    "# API 정보\n",
    "api_url = \"https://opendart.fss.or.kr/api/corpCode.xml\"\n",
    "api_key = \"xxx\"  # 자신의 API Key로 변경\n",
    "\n",
    "# API 요청\n",
    "response = requests.get(api_url, params={\"crtfc_key\": api_key})\n",
    "\n",
    "# 응답 확인\n",
    "if response.status_code == 200:\n",
    "    with zipfile.ZipFile(io.BytesIO(response.content)) as z:\n",
    "        file_name = z.namelist()[0]  # ZIP 파일 내 XML 파일 이름\n",
    "        with z.open(file_name) as xml_file:\n",
    "            xml_content = xml_file.read().decode(\"utf-8\")\n",
    "            \n",
    "            # XML 파싱\n",
    "            root = ET.fromstring(xml_content)\n",
    "            data = []\n",
    "            for corp in root.findall(\"list\"):\n",
    "                corp_code = corp.find(\"corp_code\").text\n",
    "                corp_name = corp.find(\"corp_name\").text\n",
    "                corp_eng_name = corp.find(\"corp_eng_name\").text\n",
    "                stock_code = corp.find(\"stock_code\").text\n",
    "                modify_date = corp.find(\"modify_date\").text\n",
    "                \n",
    "                data.append([corp_code, corp_name, corp_eng_name, stock_code, modify_date])\n",
    "            \n",
    "            # DataFrame 생성\n",
    "            df = pd.DataFrame(data, columns=[\"고유번호\", \"정식명칭\", \"영문명칭\", \"종목코드\", \"최종변경일\"])\n",
    "            \n",
    "            # 검색할 고유명칭 입력\n",
    "            search_name = input(\"검색할 회사 이름을 입력하세요: \")\n",
    "            \n",
    "            # 고유명칭으로 검색\n",
    "            result = df[df[\"정식명칭\"].str.contains(search_name, case=False, na=False)]\n",
    "            \n",
    "            # 결과 출력\n",
    "            if not result.empty:\n",
    "                print(\"\\n검색 결과:\")\n",
    "                print(result)\n",
    "            else:\n",
    "                print(\"\\n해당 이름의 회사가 없습니다.\")\n",
    "else:\n",
    "    print(\"API 호출 실패:\", response.status_code)\n"
   ]
  },
  {
   "cell_type": "code",
   "execution_count": null,
   "id": "d9711c54-41f9-4a96-b2c1-816d116d794b",
   "metadata": {},
   "outputs": [
    {
     "name": "stdout",
     "output_type": "stream",
     "text": [
      "  corp_name        report_nm        rcept_no  \\\n",
      "0      솔트룩스  분기보고서 (2024.09)  20241114002412   \n",
      "1      솔트룩스  반기보고서 (2024.06)  20240814002856   \n",
      "2      솔트룩스  분기보고서 (2024.03)  20240516001188   \n",
      "3      솔트룩스  사업보고서 (2023.12)  20240321002058   \n",
      "4      솔트룩스  분기보고서 (2023.09)  20231114002515   \n",
      "\n",
      "                                                           URL  \n",
      "0  https://dart.fss.or.kr/dsaf001/main.do?rcpNo=20241114002412  \n",
      "1  https://dart.fss.or.kr/dsaf001/main.do?rcpNo=20240814002856  \n",
      "2  https://dart.fss.or.kr/dsaf001/main.do?rcpNo=20240516001188  \n",
      "3  https://dart.fss.or.kr/dsaf001/main.do?rcpNo=20240321002058  \n",
      "4  https://dart.fss.or.kr/dsaf001/main.do?rcpNo=20231114002515  \n"
     ]
    }
   ],
   "source": [
    "import requests\n",
    "import pandas as pd\n",
    "\n",
    "# 🔹 API 정보\n",
    "api_url = \"https://opendart.fss.or.kr/api/list.json\"  # JSON 형식으로 요청\n",
    "api_key = \"xxx\"  # 여기에 본인의 인증키 입력\n",
    "\n",
    "# 🔹 요청 파라미터 설정\n",
    "params = {\n",
    "    \"crtfc_key\": api_key,  # API 인증키\n",
    "    \"corp_code\": \"01050738\", # 고유번호(8자리)\n",
    "    \"bgn_de\": \"20230101\",  # 조회 시작일 (예: 2024년 1월 1일)\n",
    "    \"end_de\": \"20250228\",  # 조회 종료일 (예: 2024년 2월 19일)\n",
    "    \"last_reprt_at\": \"Y\", # 최종보고서만 검색여부(Y OR N)\n",
    "    \"pblntf_ty\": \"A\", # 공시유형(A:정기공시)\n",
    "    \"page_no\": \"1\",  # 페이지 번호\n",
    "    \"page_count\": \"10\"  # 페이지당 항목 수\n",
    "}\n",
    "\n",
    "# 🔹 API 호출\n",
    "response = requests.get(api_url, params=params)\n",
    "\n",
    "# 🔹 응답 확인\n",
    "import requests\n",
    "import pandas as pd\n",
    "\n",
    "# 🔹 응답 확인 및 URL 생성\n",
    "if response.status_code == 200:\n",
    "    data = response.json()  # JSON 데이터 변환\n",
    "    if \"list\" in data:\n",
    "        df = pd.DataFrame(data[\"list\"])  # DataFrame으로 변환\n",
    "        \n",
    "        # 🔹 rcept_no 사용하여 링크 생성\n",
    "        df[\"URL\"] = \"https://dart.fss.or.kr/dsaf001/main.do?rcpNo=\" + df[\"rcept_no\"]\n",
    "\n",
    "        #출력 옵션 설정\n",
    "        pd.set_option('display.max_colwidth', None)\n",
    "        \n",
    "        # 🔹 데이터 출력 (링크 포함)\n",
    "        print(df[[\"corp_name\", \"report_nm\", \"rcept_no\", \"URL\"]].head())\n",
    "    else:\n",
    "        print(\"데이터 없음:\", data)\n",
    "else:\n",
    "    print(\"API 호출 실패:\", response.status_code)"
   ]
  },
  {
   "cell_type": "code",
   "execution_count": null,
   "id": "6efe7526-70c1-41f1-a951-df3ff5c65eb1",
   "metadata": {},
   "outputs": [
    {
     "name": "stdout",
     "output_type": "stream",
     "text": [
      "XBRL ZIP 파일 다운로드 완료: xbrl_report.zip\n"
     ]
    }
   ],
   "source": [
    "import requests\n",
    "import zipfile\n",
    "import io\n",
    "\n",
    "# 🔹 API 정보\n",
    "api_url = \"https://opendart.fss.or.kr/api/document.xml\"\n",
    "api_key = \"xxx\"  # 여기에 본인의 인증키 입력\n",
    "\n",
    "# 🔹 요청 파라미터 설정\n",
    "params = {\n",
    "    \"crtfc_key\": api_key,  # API 인증키\n",
    "    \"rcept_no\": \"20241113000578\"  # 예제 접수번호 (실제 검색 후 입력)\n",
    "}\n",
    "\n",
    "# 🔹 API 호출\n",
    "response = requests.get(api_url, params=params)\n",
    "\n",
    "# 🔹 응답 확인 및 파일 저장\n",
    "if response.status_code == 200:\n",
    "    with open(\"xbrl_report.zip\", \"wb\") as f:\n",
    "        f.write(response.content)\n",
    "    print(\"XBRL ZIP 파일 다운로드 완료: xbrl_report.zip\")\n",
    "else:\n",
    "    print(\"API 호출 실패:\", response.status_code)\n"
   ]
  },
  {
   "cell_type": "code",
   "execution_count": null,
   "id": "418edc60-5631-461f-9942-74112150707d",
   "metadata": {},
   "outputs": [
    {
     "name": "stdout",
     "output_type": "stream",
     "text": [
      "API 상태 코드: 200\n",
      "6o\u0006\u0011�q�۱��͋�+n=M��W�t2u�6���~Ϯ�$\u0004��(ƨn\u0003HZ�=���|�_N���Ʋd�ts�c�\u0010�\u0010�N9i�\u001e\n",
      "�ޑB�|�~������;�1\u0010=�\u0017�O\u0012�����K9�{G2���w�\u001f�p�B�\u0014rܑ�\"�\u000b\n",
      "����&R\u0019s�h��\\ްS�\u0011\u0002��v��137n�L��^'e��ӆ��B/��GN~k�^m]�HGl�Dbg�m��H\"�#����\u000b\n",
      "�#}1\u0012�\u000et�`�\u0002GN.>\\�ran�ӥ�N\u001c\n",
      "��\u000e��90�w�7�6\u0014\u001bLt\u000f��HG$\t�\u0014y!\f\n",
      "�U���B��5W���\u0003}�H�9�v��S���\u001d\n",
      "������pϿ.-\u0014�*�;q��J\\J�t__d�\u001c\n",
      "�\u0001k\u0018�D���ބ{��{~��\u001b9u�D:c���Ax�} �u�d������~����\u0007�s����Fv�nt0���S�\u001f�\u000f� \u0019�o\u001d\n",
      "B�`;�6��UQVk�;����5O\n",
      "���\u0005�u�\tꑓ��GW_%��D�������$b\u0002�p0��ӱ��9�Fx�q:��\u001d\n",
      "����;���r\u001c\n",
      "������\u001a�t���������H�wK\u000b\n",
      "��ȥ�՗W�\u001b�\\Z$��\u0017C��~�['z��\u0007a��݉�I�����O�\"(���<�x�x{���gō[��wB�QgḻO\u001c\n",
      "��\u0012,�<\\LtWw\"~����I�u[�;�\u000b\n",
      "xH\u000eD\u0011�$\u0002\u0000\u001d\n",
      "��\u000f ��F��%Y�#S�\u0012\u0004d���h�I��_�?o�89\n",
      "phZ�&��A\u0010�N�O�\u000f���M�W��\u0006�8r�v���ot+��\u0012F�ҿ�e�Zef7n�\t;p7I\u0011뫹J}�'�az�*TK\u00055���KK�d\u0007!!h\t!��oy&�Z_��F�;ٶ�-�+;\t�[F\u0017\u0002�z/ĭ�v�Z؄�++�e\u0007����nV��b3v\u0000u�o\u0002!by\u0013V~�����\tr�vA���}�����k���&�o����\u0014��\u0013�\u0007��\t`�\u0010�P��{f�N��Ψ�O���?\u0018��&(U��;Uf\u0002�z�w���r�V_]{0�h����wH�����w7��\u000f�'\u0010�%���>��Wߝ�X���\u0011��\u0013��<�-s���g�SsY}u�a�����_�m�����d�.���z���Í������mڕ�\u001d\n",
      "\u0012�\u0016�1��.��<�\f\n",
      "�?�o��͇���II�X}���[s�\u000f�y�\u0015�.3�`�\u001b��Z����7���K\u0012���_W~��,{a���K�\u0000�\"Ex֫�\u001bZ�ԟ�\u001f�Β��+O@�Y�]4=G\u001f��; ل�ѹ���ٕc��F\u001c\n",
      "-~Eȭ׎\u0011^\u0012���m����Эo��柊�W\u001f\u001f#hL��ք�1�+�#��3v<g��\u001d\n",
      "<\u0014\u0007XX d\n",
      "\u0001�ZX��/����\n",
      "�\n",
      "\f\n",
      "m���Q���|&�)^�\u0007�\u000f���\u0005R�U35�\u0000L�;��SӔofj%�Ìpv��I���d��Zy4���o�\t�$C\u0004fÉ\"��qX.T���W�����|�0\u0001\u0014b6�\"�h����\t\u001c\n",
      "\u0018��Hur\tP^^��D�\u0006�%\"|�O>��\f\n",
      "�\u0006\u0017\u0004\u0007������Ϲ�\u0011{#g6G�[*[m\u001a*e�@��¢O����H�[��?��#�Х@��̧�;V�±�wk.i<B��\u0014Q��wkb�+/*�\u0018.�1��z=Ae��&^�\"DV�/���`6�w��)h�F�~��8�5Y}U\\�J\u00199���g�\u001a�7�\u0001K^��z\\����(Z�й�hc]�SU��~����\u0014�u���\u0005X�쿮~A���Q��\u0015�L�R�<Ƒ��1�v��\u001d\n",
      "w�V\u001c\n",
      "�\u0010i�f*c;Ygd�|��9�V�$����\u001a�!��I\t7eC΢\u0000����WS\u001f\u0017ﭼ�\u0012���KπUP\u0011��N<\u000b\n",
      "�t�=2�;���ߋ��������ܫ��㍻+?%\u001b���g\u00031�Xe%k�\u0005O=��:���8�6�D�;p�\u0003m��`r3.�/��\u0011I\u000e\f\n",
      "�N�#������(���H���&�>���\u0001\f\n",
      "�\u0003:�N�l����\u0013�x<���}\u0016�;\u0017�\u0001��\"�b��\f\n",
      "*��M�^��\u0014�ե\u0005\u001c\n",
      "s�K��h�~y�F��㥛��\u0007��I�}���Z��뼶��v%�\u0011�\u0002\u001e\n",
      "6��~@6�X�o鵣��󗏅^\u001c\n",
      "\u001f9q\u001c\n",
      "n�ݬ-\u001a�{)\u0017����W�o�kKW�K3��$ˏ��y\u0006|�[�쥇S\u001a[�3��8�h��\u0004�\u001f옰�謳P.-T�5�^�\\���3oTF�B����>N(���\u0019w�a'��P�;\"��#'�.��\u0006��\u0017G\u0016�X���/2�鍟y�/�E����k_׾��0\u0016~���%`�x{�S�2;y�S�4�q�X�L�]ǶR9\u0012uB\u001c\n",
      "�ͧC�q��\u0017?ͥ����3\u001f�j�u�z\u0012[�]�n\\s��J�u�g!�te�J�.�sUL�b6t�5�R�\u0012wi�\n",
      "0\f\n",
      "�6w�z\u001c\n",
      "�t$�v�\u0013V�$\t'[�!��\u00154�ݙ�<�ϊ�A(�h���\u0014n\u0003�o�\u0000f�\u0004�j�\f\n",
      "����8��I�������F\u0016^�\u000b\n",
      "��k�9X��\n",
      "m\u000e\n",
      "�m�=����\u000e>�c�98\u0015W~6������չ+ԕ\n",
      "wڸ\u000b\n",
      "�x�ݲXXuT�\u0015�\u001a�O���da���\u00052�A�:�kj�\u001f�� ��\u0014O_\n",
      "��LU\u0014j\u0004�\u001d\n",
      "$,q��yU`!1m��tՒ��D$~\u000b\n",
      "��9�j�{����m�d��G�������iXS;1������f���<��\u000e�ٲ�\n",
      "*ʟ����H\u001d\n",
      "\n",
      "˟��ϒC\u001c\n",
      "��|����\u001c\n",
      "��V�h�S�,-��O?��ʥ��n�R#u\t��[�\u001a\\$���y��5����\\߻yy���O��]_X�\u001d\n",
      "Gn��X\\sӠ�r�\u001d\n",
      "�=?�҉�\u0018��q�?��A:�F.��=�A�n\u0004�P}���ɶ�h\u0007G\u0006zc\u001d\n",
      "5��~F�<�\u0019x�]��\u0006*�\u0007�Z�s�����w�~{�2G��]��Ib��������\u00178r}ac���6�;Q'\u001d\n",
      "|{��d�W�'k�y�摠\u0004\u0007:����%�70�\u001e\n",
      "\u0019J4�,��}����]\u0010\u0016V~O�SW��㕟��5���ת��Hx_�~ws\u0000�b\u0000���_/~���77j6t��5Z��\u001a��g�t�\u0012�ۂ�����~���\u0018>���J��+կ�ѱ�o���\f\n",
      "�H��[Z��E�w���?Qp�G�\\�I���ja�qC�I6\u0000���\u0018E��Nc+���ܙ�m{��K���\u0014������\u0015a�\u001e\n",
      ",��\u0003Y��� ��~^�\u0007��������Rڥ\u001b���?X�\u001b��(�-��G\u001b�o�k���>^�����Gd��\u001ar��ٿP�w�!Y���\u001c\n",
      "�����k��֯��w����͙� ��߾v\t�\u0003��Op����\u0013jC���\u0016�~���gd�\u000b\n",
      ":���K�����/M/�\u0015��?���\u0004\u0002ob�:�w��x��O�%�\u001a=b��%��\f\n",
      "�6R!|����q=\u001f\\���7pǝ��#�r4X2R�GW\u001e\n",
      "Ԍ��w�ެf������zk�ͥ���_\"���љ���㍻5gvsk�;-�\u001d\n",
      ")�Ff�\u001c\n",
      ":_�\n"
     ]
    }
   ],
   "source": [
    "import requests\n",
    "\n",
    "api_url = \"https://opendart.fss.or.kr/api/document.xml\"\n",
    "api_key = \"xxx\" \n",
    "\n",
    "params = {\n",
    "    \"crtfc_key\": api_key,\n",
    "    \"rcept_no\": \"20190401004781\"\n",
    "}\n",
    "\n",
    "response = requests.get(api_url, params=params)\n",
    "\n",
    "print(\"API 상태 코드:\", response.status_code)\n",
    "print(\"응답 내용:\", response.text[:4000])  # 앞부분 500자만 출력\n"
   ]
  },
  {
   "cell_type": "code",
   "execution_count": 63,
   "id": "9f63264c-4505-4f49-a957-976d8c5e7e3e",
   "metadata": {},
   "outputs": [
    {
     "name": "stdout",
     "output_type": "stream",
     "text": [
      "<?xml version=\"1.0\" encoding=\"UTF-8\"?><rss version=\"2.0\"><channel><title>Naver Open API - webkr ::&apos;삼성전자 주가&apos;</title><link>https://search.naver.com</link><description>Naver Search Result</description><lastBuildDate>Thu, 20 Feb 2025 16:40:02 +0900</lastBuildDate><total>8282583</total><start>1</start><display>10</display><item><title>&lt;b&gt;삼성전자&lt;/b&gt;: 58,700 -0 (0.00%)</title><link>https://finance.daum.net/quotes/A005930</link><description>전일 : 58,700, 고가 : 58,700, 거래량 : 0(0), 시가 : 58,700, 저가 : 58,700, 거래대금 : 0백만</description></item><item><title>Samsung Electronics Co Ltd 오늘의 &lt;b&gt;주가&lt;/b&gt; | 005930 실시간 티커 - Investing.com</title><link>https://kr.investing.com/equities/samsung-electronics-co-ltd</link><description>&lt;b&gt;삼성전자&lt;/b&gt;의 &lt;b&gt;주가&lt;/b&gt;, 005930 주식, 차트, 기술적 분석, 실적 자료 등 &lt;b&gt;삼성전자&lt;/b&gt; 시세에 대한 자세한 정보를 확인해 보세요. 오늘의 시세뿐만 아니라 뉴스와 분석, 재정 상황, 포럼 등도 확인해 보세요.</description></item><item><title>&lt;b&gt;삼성전자&lt;/b&gt; - 다음 금융</title><link>https://m.finance.daum.net/quotes/A005930/home</link><description>전일종가 : 56,000, 시가 : 56,200, 고가 : 57,200, 저가 : 55,900, 시가총액 : 3,396,806억 · (1위), EPS : 2,131원, BPS : 52,002원, 전일거래량 : 11,916천주, 거래금 : 1,215,788백만, 52주최고 : 88,800 · (24.07.11), 52주최저 : 49,900 · (24.11.14), PER : 26.28배, PBR : 1.08배</description></item><item><title>&lt;b&gt;삼성전자 주가&lt;/b&gt; 📈</title><link>https://alphasquare.co.kr/home/stock-summary?code=005930</link><description>실시간 &lt;b&gt;삼성전자&lt;/b&gt;(005930) &lt;b&gt;주가&lt;/b&gt;를 광고 없는 깔끔한 화면에서 확인해보세요! 현재 시세는 56,900원입니다. 실시간 차트, 최신 뉴스, 분석 및 더 많은 정보를 알파스퀘어에서 확인해보세요.</description></item><item><title>&lt;b&gt;삼성 전자 주가&lt;/b&gt; 전망: 2025년, 2026년</title><link>https://wonforecast.com/samsung-electronics</link><description>&lt;b&gt;삼성 전자&lt;/b&gt;주식 가격. 내일, 이번 주 그리고 이번 달의&lt;b&gt;삼성 전자&lt;/b&gt;주식 가격수전망. 날마다의&lt;b&gt;삼성 전자&lt;/b&gt;주식 가격. 2025년 그리고 2026년 &lt;b&gt;삼성 전자&lt;/b&gt;주식 가격 변동 전망. 매달&lt;b&gt;삼성 전자&lt;/b&gt;주식 가격.</description></item><item><title>&lt;b&gt;삼성전자&lt;/b&gt;(005930)의 실시간 &lt;b&gt;주가&lt;/b&gt;를 확인해보세요</title><link>https://tossinvest.com/stocks/A005930/order</link><description>&lt;b&gt;삼성전자&lt;/b&gt;(005930)의 실시간 &lt;b&gt;주가&lt;/b&gt;, 일별 &lt;b&gt;주가&lt;/b&gt;, 일, 주, 월, 년의 주식차트, 종목정보와 뉴스, 그리고 종토방까지 확인해보세요.</description></item><item><title>이재용 회장 사법리스크 덜자 &lt;b&gt;삼성전자 주가&lt;/b&gt;도 ‘날았다’</title><link>https://www.thepublic.kr/news/articleView.html?idxno=249604</link><description>이재용 &lt;b&gt;삼성전자&lt;/b&gt; 회장이 부당합병·회계부정 의혹 사건 항소심에서 무죄 판결을 받으면서 사법 리스크를 덜었다는 평가가 나오는 가운데, &lt;b&gt;삼성전자&lt;/b&gt; 주식에도 온기가 돌고 있다. 특히 3일, 4일 연속 상승세를 보이고 있다.이재용 회장의 무죄 판결 다음날인 4일 &lt;b&gt;삼성전자&lt;/b&gt;는</description></item><item><title>&lt;b&gt;삼성전자&lt;/b&gt; - 위키백과 한국어</title><link>https://ko.wikipedia.org/wiki/%EC%82%BC%EC%84%B1%EC%A0%84%EC%9E%90</link><description>때문에, &lt;b&gt;삼성전자&lt;/b&gt;의 전망과 &lt;b&gt;주가&lt;/b&gt;는 갤럭시 시리즈의 판매 실적에 따라... 모태로 &lt;b&gt;삼성&lt;/b&gt;은 식품과 의복을 주력으로 해 오다가 박정희 대통령과의 회동을 계기로, 1969년 &lt;b&gt;삼성전자&lt;/b&gt;를 창립하면서 &lt;b&gt;전자&lt;/b&gt;산업에...</description></item><item><title>&lt;b&gt;삼성전자&lt;/b&gt; 52주 최저가...증권사들 일제히 목표 &lt;b&gt;주가&lt;/b&gt; 낮춰</title><link>https://www.chosun.com/economy/money/2024/10/10/XJOPYXLCRBGC3AVS5GJQBVOG5M/</link><description>&lt;b&gt;삼성전자&lt;/b&gt; 52주 최저가...증권사들 일제히 목표 &lt;b&gt;주가&lt;/b&gt; 낮춰 10일 &lt;b&gt;삼성전자 주가&lt;/b&gt;가 5만8000원대까지 떨어지며 52주 최저가를 다시 썼다. 3분기 실적 부진에 외국인 매도세가 겹치며 &lt;b&gt;주가&lt;/b&gt; 약세가 지속되고 있다. 이날 오전 10시 18분 기준 &lt;b&gt;삼성전자&lt;/b&gt;는 전 거래일 대비</description></item><item><title>&lt;b&gt;삼성&lt;/b&gt;家, 주식담보대출 마진콜 위기</title><link>https://www.inews24.com/view/1784159</link><description>&lt;b&gt;삼성전자 주가&lt;/b&gt;하락에 홍라희 추가담보 제공·&lt;b&gt;삼성&lt;/b&gt;물산 주담대 전환 홍라희·이서현 마진콜 최소&lt;b&gt;주가&lt;/b&gt; 5만8천원대 &lt;b&gt;삼성전자&lt;/b&gt;가 10조원의 자기주식 매입·소식 계획을 밝힌 가운데 &lt;b&gt;삼성&lt;/b&gt;가(家) 오너들이 주식담보대출 마진콜(추가담보 요구) 위기에 처한 것으로 나타났다. 일단 일부 추가 주식 담보 납부와 &lt;b&gt;삼성전자&lt;/b&gt; 대신 &lt;b&gt;삼성&lt;/b&gt;물산으로 담보대상을 바꾸긴 했지만 &lt;b&gt;삼성전자 주가&lt;/b&gt;...</description></item></channel></rss>\n"
     ]
    }
   ],
   "source": [
    "# 네이버 검색 API 예제 - 블로그 검색\n",
    "import os\n",
    "import sys\n",
    "import urllib.request\n",
    "client_id = os.getenv(\"NAVER_CLIENT_ID\")\n",
    "client_secret = os.getenv(\"NAVER_CLIENT_SECRET\")\n",
    "encText = urllib.parse.quote(\"삼성전자 주가\")\n",
    "url = \"https://openapi.naver.com/v1/search/webkr.xml?query=\" + encText # JSON 결과\n",
    "# url = \"https://openapi.naver.com/v1/search/blog.xml?query=\" + encText # XML 결과\n",
    "request = urllib.request.Request(url)\n",
    "request.add_header(\"X-Naver-Client-Id\",client_id)\n",
    "request.add_header(\"X-Naver-Client-Secret\",client_secret)\n",
    "response = urllib.request.urlopen(request)\n",
    "rescode = response.getcode()\n",
    "if(rescode==200):\n",
    "    response_body = response.read()\n",
    "    print(response_body.decode('utf-8'))\n",
    "else:\n",
    "    print(\"Error Code:\" + rescode)"
   ]
  },
  {
   "cell_type": "code",
   "execution_count": null,
   "id": "8f8877b6-a030-418c-bc2b-31965101f0f2",
   "metadata": {},
   "outputs": [],
   "source": []
  }
 ],
 "metadata": {
  "kernelspec": {
   "display_name": "Python 3 (ipykernel)",
   "language": "python",
   "name": "python3"
  },
  "language_info": {
   "codemirror_mode": {
    "name": "ipython",
    "version": 3
   },
   "file_extension": ".py",
   "mimetype": "text/x-python",
   "name": "python",
   "nbconvert_exporter": "python",
   "pygments_lexer": "ipython3",
   "version": "3.12.7"
  }
 },
 "nbformat": 4,
 "nbformat_minor": 5
}
