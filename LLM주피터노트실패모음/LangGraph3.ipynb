{
 "cells": [
  {
   "cell_type": "code",
   "execution_count": 1,
   "id": "97d30c84-2644-4e87-b3d4-c60fabfb51a5",
   "metadata": {},
   "outputs": [
    {
     "data": {
      "text/plain": [
       "True"
      ]
     },
     "execution_count": 1,
     "metadata": {},
     "output_type": "execute_result"
    }
   ],
   "source": [
    "# API KEY를 환경변수로 관리하기 위한 설정 파일\n",
    "from dotenv import load_dotenv\n",
    "\n",
    "# API KEY 정보로드\n",
    "load_dotenv()"
   ]
  },
  {
   "cell_type": "code",
   "execution_count": 2,
   "id": "0b0f2358-9fc7-4650-b1d5-49c2c6298f1b",
   "metadata": {},
   "outputs": [
    {
     "name": "stdout",
     "output_type": "stream",
     "text": [
      "LangSmith 추적을 시작합니다.\n",
      "[프로젝트명]\n",
      "주식분석\n"
     ]
    }
   ],
   "source": [
    "from langchain_teddynote import logging\n",
    "\n",
    "# 프로젝트 이름을 입력합니다.\n",
    "logging.langsmith(\"주식분석\")"
   ]
  },
  {
   "cell_type": "code",
   "execution_count": 3,
   "id": "299adba4-78cb-4426-887f-133dd8b0a347",
   "metadata": {},
   "outputs": [],
   "source": [
    "# 필요 라이브러리 임트트\n",
    "import os\n",
    "from pydantic import BaseModel\n",
    "from typing import Annotated, List, Dict\n",
    "from typing_extensions import TypedDict\n",
    "from langgraph.graph import StateGraph, START, END\n",
    "from langgraph.graph.message import add_messages\n",
    "from langgraph.prebuilt import tools_condition\n",
    "from langchain_core.prompts import ChatPromptTemplate, FewShotChatMessagePromptTemplate\n",
    "from langgraph.checkpoint.memory import MemorySaver\n",
    "from langchain_openai import ChatOpenAI"
   ]
  },
  {
   "cell_type": "code",
   "execution_count": 5,
   "id": "3d6e6db6-bc4a-4cf4-ad09-78563bf6cc59",
   "metadata": {},
   "outputs": [],
   "source": [
    "################################ 문서 검색 RAG 정의##############################################\n",
    "from langchain_community.document_loaders import PyMuPDFLoader\n",
    "from langchain_openai import OpenAIEmbeddings\n",
    "from langchain_text_splitters import RecursiveCharacterTextSplitter\n",
    "from langchain_community.vectorstores import Chroma\n",
    "\n",
    "# --- 문서 로드 및 전처리 ---\n",
    "loader = PyMuPDFLoader(\"stock_report/[삼성전자]분기보고서(2024.11.14).pdf\")\n",
    "docs = loader.load()\n",
    "\n",
    "## : 문서 분할(Split Documents) <-----------추후 문서 제목 단위 분할로 변경 필요\n",
    "text_splitter = RecursiveCharacterTextSplitter(chunk_size=1000, chunk_overlap=100)\n",
    "split_documents = text_splitter.split_documents(docs)\n",
    "\n",
    "## 단계 3: 임베딩(Embedding) 생성\n",
    "embeddings = OpenAIEmbeddings()\n",
    "\n",
    "# 벡터스토어 생성\n",
    "vectorstore = Chroma.from_documents(documents=split_documents, embedding=embeddings, persist_directory=\"stock_report/chroma_db\")\n",
    "\n",
    "# 5. 검색기(Retriever) 생성\n",
    "retriever = vectorstore.as_retriever(search_kwargs={\"k\": 5})\n",
    "\n",
    "# 문서 검색 도구 생성\n",
    "from langchain.tools.retriever import create_retriever_tool\n",
    "\n",
    "# 해당 툴을 정의하는 것.\n",
    "# 이를 이용하여 LLM에 해당 툴을 결합시킬 수 있음.\n",
    "retriever_tool = create_retriever_tool(\n",
    "    retriever,\n",
    "    name=\"retriever_tool\",   # 툴의 이름 (Agent가 호출할 때 사용)\n",
    "    description=\"반기보고서 내용을 검색하여 제공합니다.\"  # 툴의 용도 설명\n",
    ")\n",
    "\n",
    "# 해당 툴 노드를 정의하는 것.\n",
    "# Graph에서 사용하기 위해 Node로 만들 필요가 있음.\n",
    "from langgraph.prebuilt import ToolNode\n",
    "\n",
    "retrieve = ToolNode([retriever_tool])"
   ]
  },
  {
   "cell_type": "code",
   "execution_count": 6,
   "id": "5ac25fb3-99f9-42e9-aca6-21cc099b2803",
   "metadata": {},
   "outputs": [],
   "source": [
    "################################# 웹 검색 및 날짜 확인 도구 ######################################\n",
    "from tavily import TavilyClient\n",
    "from langchain_community.tools.tavily_search import TavilySearchResults\n",
    "from datetime import datetime\n",
    "from langchain.agents import Tool\n",
    "import os\n",
    "\n",
    "# 웹검색 도구 생성\n",
    "web_search = TavilySearchResults(max_results=3)\n",
    "# 해당 함수의 경우에는 재검색이 요청된 경우에 사용하도록 한다.\n",
    "web_search_retry = TavilySearchResults(max_results=5)\n",
    "\n",
    "# 오늘 날짜 확인\n",
    "def get_today_tool():\n",
    "    return datetime.today().strftime('%Y-%m-%d')\n",
    "\n",
    "today_tool = Tool(\n",
    "    name=\"Get Today\",\n",
    "    func=get_today_tool,\n",
    "    description=\"Returns today's date in YYYY-MM-DD format\",\n",
    "    verbose=True\n",
    ")\n",
    "\n",
    "# 생성된 도구 목록\n",
    "tools = [web_search, web_search_retry, today_tool, retriever_tool]"
   ]
  },
  {
   "cell_type": "code",
   "execution_count": 25,
   "id": "19295a73-3849-4d0b-b419-e24dd23e17b6",
   "metadata": {},
   "outputs": [],
   "source": [
    "# 노드 1-1 생성된 툴들에 대하여 툴노드 정의\n",
    "from langgraph.prebuilt import ToolNode\n",
    "\n",
    "tool_nodes = ToolNode(tools)"
   ]
  },
  {
   "cell_type": "code",
   "execution_count": 8,
   "id": "913a59b4-f0cc-4156-a452-bcf9a8715857",
   "metadata": {},
   "outputs": [],
   "source": [
    "# 사용자 입력값 스테이트\n",
    "class InputState(TypedDict):\n",
    "    start_input: str\n",
    "\n",
    "# 1 User Input 노드 \n",
    "def user_input_node(state: InputState):\n",
    "    print(\"================================= cal stock =================================\")\n",
    "    print(\"주식가치를 계산합니다. 궁금하신 주식명을 입력해주세요.\")\n",
    "    # time.sleep(1)\n",
    "    user_input = input(\"User: \")\n",
    "    \n",
    "    return {\"user_input\": user_input}"
   ]
  },
  {
   "cell_type": "code",
   "execution_count": 9,
   "id": "d9bffcbc-fb8f-4699-a9f0-bdcde791d36a",
   "metadata": {},
   "outputs": [],
   "source": [
    "# 주식 가치 정보 데이터 저장 스테이트\n",
    "class StockValueCalState(TypedDict):\n",
    "    user_input: str\n",
    "    stock_value_dict: dict"
   ]
  },
  {
   "cell_type": "code",
   "execution_count": 10,
   "id": "79e5782c-bb46-409f-be83-647280864934",
   "metadata": {},
   "outputs": [],
   "source": [
    "# llm 설계\n",
    "class Stock_value_output(TypedDict):\n",
    "    \"\"\"\n",
    "    Sturctured_output을 생성하기위한 클래스\n",
    "    \"\"\"\n",
    "    Net_Income: Annotated[str, ..., \"순이익\"]\n",
    "    Shares_Outstanding: Annotated[str, ..., \"발행주식수\"]\n",
    "    Stock_Price: Annotated[str, ..., \"주가\"]\n",
    "    Book_Value: Annotated[str, ..., \"자기자본\"]\n",
    "    FCF: Annotated[str, ..., \"자유현금흐름\"]\n",
    "    EBIT: Annotated[str, ..., \"영업이익\"]\n",
    "    WACC: Annotated[str, ..., \"할인율\"]\n",
    "    PFCF: Annotated[str, ..., \"미래 현금흐름\"]\n",
    "    Growth_Rate: Annotated[str, ..., \"성장률\"]\n",
    "    DPS: Annotated[str, ..., \"주당배당금\"]\n",
    "    ROE: Annotated[str, ..., \"자기자본이익률\"]\n",
    "    PER: Annotated[str, ..., \"주가수익비율\"]\n",
    "    PBR: Annotated[str, ..., \"주가순자산비율\"]\n",
    "    DCF: Annotated[str, ..., \"할인현금흐름\"]\n",
    "\n",
    "stock_value_model = ChatOpenAI(model=\"gpt-4o-mini\")\n",
    "stock_value_model = stock_value_model.with_structured_output(Stock_value_output)"
   ]
  },
  {
   "cell_type": "code",
   "execution_count": 20,
   "id": "444e2d98-fe3d-4cb6-bb7d-0796d79f4542",
   "metadata": {},
   "outputs": [],
   "source": [
    "# 2 stock value calculation 노드\n",
    "\n",
    "def stock_value_calculation_node(state: StockValueCalState):\n",
    "    messages = [\n",
    "        (\"system\", \"\"\"\n",
    "        당신은 유능한 금융전문가 입니다.\\n\n",
    "        user input 을 받아서 관련 주식명을 추출하고, 해당 주식의 가치를 평가하여 답변하여야 합니다. \\n\n",
    "        주식 가치를 평가하기 위해 추출한 주식명의 'Net_Income', 'Shares_Outstanding', 'Stock_Price', 'Book_Value', 'FCF', 'EBIT', 'WACC', 'PFCF', 'Growth_Rate', 'DPS', 'ROE'를 retrieve Tool을 활용하여 값을 작성하시오.\n",
    "        값을 찾지 못한 경우 빈 값으로 제출하시오.\n",
    "        \"\"\"),\n",
    "        (\"human\", state['user_input'])\n",
    "    ]\n",
    "    response = tool_nodes.invoke(messages)\n",
    "    \n",
    "    print(\"================================= stock value calculation Setup =================================\")\n",
    "    print(f\"입력된 정보:{state['user_input']}\")\n",
    "    print(f\"순이익: {response['Net_Income']}\")\n",
    "    print(f\"발행주식수: {response['Shares_Outstanding']}\")\n",
    "    print(f\"주가: {response['Stock_Price']}\")\n",
    "    print(f\"자기자본: {response['Book_Value']}\")\n",
    "    print(f\"자유현금흐름: {response['FCF']}\")\n",
    "    print(f\"영업이익: {response['EBIT']}\")\n",
    "    print(f\"할인율: {response['WACC']}\")\n",
    "    print(f\"미래 현금흐름: {response['PFCF']}\")\n",
    "    print(f\"성장률: {response['Growth_Rate']}\")\n",
    "    print(f\"주당배당금: {response['DPS']}\")\n",
    "    print(f\"자기자본이익률: {response['ROE']}\")\n",
    "    print(f\"주가수익비율: {response['PER']}\")\n",
    "    print(f\"주가순자산비율: {response['PBR']}\")\n",
    "    print(f\"할인현금흐름: {response['DCF']}\")\n",
    "    print(f\"배당할인모형: {response['DDM']}\")\n",
    "    \n",
    "    return {\"stock_value_dict\": response}"
   ]
  },
  {
   "cell_type": "code",
   "execution_count": 22,
   "id": "213b1006-3af5-4184-a2c6-aacce349b25a",
   "metadata": {},
   "outputs": [
    {
     "name": "stdout",
     "output_type": "stream",
     "text": [
      "================================= cal stock =================================\n",
      "주식가치를 계산합니다. 궁금하신 주식명을 입력해주세요.\n"
     ]
    },
    {
     "name": "stdin",
     "output_type": "stream",
     "text": [
      "User:  삼성전자\n"
     ]
    },
    {
     "ename": "ValidationError",
     "evalue": "1 validation error for RetrieverInput\n  Input should be a valid dictionary or instance of RetrieverInput [type=model_type, input_value=[('system', \"\\n        ...human', '삼성전자')], input_type=list]\n    For further information visit https://errors.pydantic.dev/2.8/v/model_type",
     "output_type": "error",
     "traceback": [
      "\u001b[1;31m---------------------------------------------------------------------------\u001b[0m",
      "\u001b[1;31mValidationError\u001b[0m                           Traceback (most recent call last)",
      "Cell \u001b[1;32mIn[22], line 30\u001b[0m\n\u001b[0;32m     26\u001b[0m config \u001b[38;5;241m=\u001b[39m {\u001b[38;5;124m\"\u001b[39m\u001b[38;5;124mconfigurable\u001b[39m\u001b[38;5;124m\"\u001b[39m: {\u001b[38;5;124m\"\u001b[39m\u001b[38;5;124mthread_id\u001b[39m\u001b[38;5;124m\"\u001b[39m: \u001b[38;5;124m\"\u001b[39m\u001b[38;5;124m1\u001b[39m\u001b[38;5;124m\"\u001b[39m}}\n\u001b[0;32m     28\u001b[0m \u001b[38;5;66;03m# 그래프 호출. 아까 이야기 했듯 start_input에는 아무것도 입력하지 않음.\u001b[39;00m\n\u001b[0;32m     29\u001b[0m \u001b[38;5;66;03m# 여기서도 마찬가지로 dict형태의 입력이 요구됨.\u001b[39;00m\n\u001b[1;32m---> 30\u001b[0m graph\u001b[38;5;241m.\u001b[39minvoke({\u001b[38;5;124m\"\u001b[39m\u001b[38;5;124mstart_input\u001b[39m\u001b[38;5;124m\"\u001b[39m: \u001b[38;5;124m\"\u001b[39m\u001b[38;5;124m\"\u001b[39m})\n",
      "File \u001b[1;32m~\\anaconda3\\Lib\\site-packages\\langgraph\\pregel\\__init__.py:1940\u001b[0m, in \u001b[0;36mPregel.invoke\u001b[1;34m(self, input, config, stream_mode, output_keys, interrupt_before, interrupt_after, debug, **kwargs)\u001b[0m\n\u001b[0;32m   1938\u001b[0m \u001b[38;5;28;01melse\u001b[39;00m:\n\u001b[0;32m   1939\u001b[0m     chunks \u001b[38;5;241m=\u001b[39m []\n\u001b[1;32m-> 1940\u001b[0m \u001b[38;5;28;01mfor\u001b[39;00m chunk \u001b[38;5;129;01min\u001b[39;00m \u001b[38;5;28mself\u001b[39m\u001b[38;5;241m.\u001b[39mstream(\n\u001b[0;32m   1941\u001b[0m     \u001b[38;5;28minput\u001b[39m,\n\u001b[0;32m   1942\u001b[0m     config,\n\u001b[0;32m   1943\u001b[0m     stream_mode\u001b[38;5;241m=\u001b[39mstream_mode,\n\u001b[0;32m   1944\u001b[0m     output_keys\u001b[38;5;241m=\u001b[39moutput_keys,\n\u001b[0;32m   1945\u001b[0m     interrupt_before\u001b[38;5;241m=\u001b[39minterrupt_before,\n\u001b[0;32m   1946\u001b[0m     interrupt_after\u001b[38;5;241m=\u001b[39minterrupt_after,\n\u001b[0;32m   1947\u001b[0m     debug\u001b[38;5;241m=\u001b[39mdebug,\n\u001b[0;32m   1948\u001b[0m     \u001b[38;5;241m*\u001b[39m\u001b[38;5;241m*\u001b[39mkwargs,\n\u001b[0;32m   1949\u001b[0m ):\n\u001b[0;32m   1950\u001b[0m     \u001b[38;5;28;01mif\u001b[39;00m stream_mode \u001b[38;5;241m==\u001b[39m \u001b[38;5;124m\"\u001b[39m\u001b[38;5;124mvalues\u001b[39m\u001b[38;5;124m\"\u001b[39m:\n\u001b[0;32m   1951\u001b[0m         latest \u001b[38;5;241m=\u001b[39m chunk\n",
      "File \u001b[1;32m~\\anaconda3\\Lib\\site-packages\\langgraph\\pregel\\__init__.py:1660\u001b[0m, in \u001b[0;36mPregel.stream\u001b[1;34m(self, input, config, stream_mode, output_keys, interrupt_before, interrupt_after, debug, subgraphs)\u001b[0m\n\u001b[0;32m   1654\u001b[0m     \u001b[38;5;66;03m# Similarly to Bulk Synchronous Parallel / Pregel model\u001b[39;00m\n\u001b[0;32m   1655\u001b[0m     \u001b[38;5;66;03m# computation proceeds in steps, while there are channel updates\u001b[39;00m\n\u001b[0;32m   1656\u001b[0m     \u001b[38;5;66;03m# channel updates from step N are only visible in step N+1\u001b[39;00m\n\u001b[0;32m   1657\u001b[0m     \u001b[38;5;66;03m# channels are guaranteed to be immutable for the duration of the step,\u001b[39;00m\n\u001b[0;32m   1658\u001b[0m     \u001b[38;5;66;03m# with channel updates applied only at the transition between steps\u001b[39;00m\n\u001b[0;32m   1659\u001b[0m     \u001b[38;5;28;01mwhile\u001b[39;00m loop\u001b[38;5;241m.\u001b[39mtick(input_keys\u001b[38;5;241m=\u001b[39m\u001b[38;5;28mself\u001b[39m\u001b[38;5;241m.\u001b[39minput_channels):\n\u001b[1;32m-> 1660\u001b[0m         \u001b[38;5;28;01mfor\u001b[39;00m _ \u001b[38;5;129;01min\u001b[39;00m runner\u001b[38;5;241m.\u001b[39mtick(\n\u001b[0;32m   1661\u001b[0m             loop\u001b[38;5;241m.\u001b[39mtasks\u001b[38;5;241m.\u001b[39mvalues(),\n\u001b[0;32m   1662\u001b[0m             timeout\u001b[38;5;241m=\u001b[39m\u001b[38;5;28mself\u001b[39m\u001b[38;5;241m.\u001b[39mstep_timeout,\n\u001b[0;32m   1663\u001b[0m             retry_policy\u001b[38;5;241m=\u001b[39m\u001b[38;5;28mself\u001b[39m\u001b[38;5;241m.\u001b[39mretry_policy,\n\u001b[0;32m   1664\u001b[0m             get_waiter\u001b[38;5;241m=\u001b[39mget_waiter,\n\u001b[0;32m   1665\u001b[0m         ):\n\u001b[0;32m   1666\u001b[0m             \u001b[38;5;66;03m# emit output\u001b[39;00m\n\u001b[0;32m   1667\u001b[0m             \u001b[38;5;28;01myield from\u001b[39;00m output()\n\u001b[0;32m   1668\u001b[0m \u001b[38;5;66;03m# emit output\u001b[39;00m\n",
      "File \u001b[1;32m~\\anaconda3\\Lib\\site-packages\\langgraph\\pregel\\runner.py:167\u001b[0m, in \u001b[0;36mPregelRunner.tick\u001b[1;34m(self, tasks, reraise, timeout, retry_policy, get_waiter)\u001b[0m\n\u001b[0;32m    165\u001b[0m t \u001b[38;5;241m=\u001b[39m tasks[\u001b[38;5;241m0\u001b[39m]\n\u001b[0;32m    166\u001b[0m \u001b[38;5;28;01mtry\u001b[39;00m:\n\u001b[1;32m--> 167\u001b[0m     run_with_retry(\n\u001b[0;32m    168\u001b[0m         t,\n\u001b[0;32m    169\u001b[0m         retry_policy,\n\u001b[0;32m    170\u001b[0m         configurable\u001b[38;5;241m=\u001b[39m{\n\u001b[0;32m    171\u001b[0m             CONFIG_KEY_SEND: partial(writer, t),\n\u001b[0;32m    172\u001b[0m             CONFIG_KEY_CALL: partial(call, t),\n\u001b[0;32m    173\u001b[0m         },\n\u001b[0;32m    174\u001b[0m     )\n\u001b[0;32m    175\u001b[0m     \u001b[38;5;28mself\u001b[39m\u001b[38;5;241m.\u001b[39mcommit(t, \u001b[38;5;28;01mNone\u001b[39;00m)\n\u001b[0;32m    176\u001b[0m \u001b[38;5;28;01mexcept\u001b[39;00m \u001b[38;5;167;01mException\u001b[39;00m \u001b[38;5;28;01mas\u001b[39;00m exc:\n",
      "File \u001b[1;32m~\\anaconda3\\Lib\\site-packages\\langgraph\\pregel\\retry.py:40\u001b[0m, in \u001b[0;36mrun_with_retry\u001b[1;34m(task, retry_policy, configurable)\u001b[0m\n\u001b[0;32m     38\u001b[0m     task\u001b[38;5;241m.\u001b[39mwrites\u001b[38;5;241m.\u001b[39mclear()\n\u001b[0;32m     39\u001b[0m     \u001b[38;5;66;03m# run the task\u001b[39;00m\n\u001b[1;32m---> 40\u001b[0m     \u001b[38;5;28;01mreturn\u001b[39;00m task\u001b[38;5;241m.\u001b[39mproc\u001b[38;5;241m.\u001b[39minvoke(task\u001b[38;5;241m.\u001b[39minput, config)\n\u001b[0;32m     41\u001b[0m \u001b[38;5;28;01mexcept\u001b[39;00m ParentCommand \u001b[38;5;28;01mas\u001b[39;00m exc:\n\u001b[0;32m     42\u001b[0m     ns: \u001b[38;5;28mstr\u001b[39m \u001b[38;5;241m=\u001b[39m config[CONF][CONFIG_KEY_CHECKPOINT_NS]\n",
      "File \u001b[1;32m~\\anaconda3\\Lib\\site-packages\\langgraph\\utils\\runnable.py:408\u001b[0m, in \u001b[0;36mRunnableSeq.invoke\u001b[1;34m(self, input, config, **kwargs)\u001b[0m\n\u001b[0;32m    404\u001b[0m config \u001b[38;5;241m=\u001b[39m patch_config(\n\u001b[0;32m    405\u001b[0m     config, callbacks\u001b[38;5;241m=\u001b[39mrun_manager\u001b[38;5;241m.\u001b[39mget_child(\u001b[38;5;124mf\u001b[39m\u001b[38;5;124m\"\u001b[39m\u001b[38;5;124mseq:step:\u001b[39m\u001b[38;5;132;01m{\u001b[39;00mi\u001b[38;5;241m+\u001b[39m\u001b[38;5;241m1\u001b[39m\u001b[38;5;132;01m}\u001b[39;00m\u001b[38;5;124m\"\u001b[39m)\n\u001b[0;32m    406\u001b[0m )\n\u001b[0;32m    407\u001b[0m \u001b[38;5;28;01mif\u001b[39;00m i \u001b[38;5;241m==\u001b[39m \u001b[38;5;241m0\u001b[39m:\n\u001b[1;32m--> 408\u001b[0m     \u001b[38;5;28minput\u001b[39m \u001b[38;5;241m=\u001b[39m step\u001b[38;5;241m.\u001b[39minvoke(\u001b[38;5;28minput\u001b[39m, config, \u001b[38;5;241m*\u001b[39m\u001b[38;5;241m*\u001b[39mkwargs)\n\u001b[0;32m    409\u001b[0m \u001b[38;5;28;01melse\u001b[39;00m:\n\u001b[0;32m    410\u001b[0m     \u001b[38;5;28minput\u001b[39m \u001b[38;5;241m=\u001b[39m step\u001b[38;5;241m.\u001b[39minvoke(\u001b[38;5;28minput\u001b[39m, config)\n",
      "File \u001b[1;32m~\\anaconda3\\Lib\\site-packages\\langgraph\\utils\\runnable.py:184\u001b[0m, in \u001b[0;36mRunnableCallable.invoke\u001b[1;34m(self, input, config, **kwargs)\u001b[0m\n\u001b[0;32m    182\u001b[0m \u001b[38;5;28;01melse\u001b[39;00m:\n\u001b[0;32m    183\u001b[0m     context\u001b[38;5;241m.\u001b[39mrun(_set_config_context, config)\n\u001b[1;32m--> 184\u001b[0m     ret \u001b[38;5;241m=\u001b[39m context\u001b[38;5;241m.\u001b[39mrun(\u001b[38;5;28mself\u001b[39m\u001b[38;5;241m.\u001b[39mfunc, \u001b[38;5;28minput\u001b[39m, \u001b[38;5;241m*\u001b[39m\u001b[38;5;241m*\u001b[39mkwargs)\n\u001b[0;32m    185\u001b[0m \u001b[38;5;28;01mif\u001b[39;00m \u001b[38;5;28misinstance\u001b[39m(ret, Runnable) \u001b[38;5;129;01mand\u001b[39;00m \u001b[38;5;28mself\u001b[39m\u001b[38;5;241m.\u001b[39mrecurse:\n\u001b[0;32m    186\u001b[0m     \u001b[38;5;28;01mreturn\u001b[39;00m ret\u001b[38;5;241m.\u001b[39minvoke(\u001b[38;5;28minput\u001b[39m, config)\n",
      "Cell \u001b[1;32mIn[20], line 13\u001b[0m, in \u001b[0;36mstock_value_calculation_node\u001b[1;34m(state)\u001b[0m\n\u001b[0;32m      3\u001b[0m \u001b[38;5;28;01mdef\u001b[39;00m \u001b[38;5;21mstock_value_calculation_node\u001b[39m(state: StockValueCalState):\n\u001b[0;32m      4\u001b[0m     messages \u001b[38;5;241m=\u001b[39m [\n\u001b[0;32m      5\u001b[0m         (\u001b[38;5;124m\"\u001b[39m\u001b[38;5;124msystem\u001b[39m\u001b[38;5;124m\"\u001b[39m, \u001b[38;5;124m\"\"\"\u001b[39m\n\u001b[0;32m      6\u001b[0m \u001b[38;5;124m        당신은 유능한 금융전문가 입니다.\u001b[39m\u001b[38;5;130;01m\\n\u001b[39;00m\n\u001b[1;32m   (...)\u001b[0m\n\u001b[0;32m     11\u001b[0m         (\u001b[38;5;124m\"\u001b[39m\u001b[38;5;124mhuman\u001b[39m\u001b[38;5;124m\"\u001b[39m, state[\u001b[38;5;124m'\u001b[39m\u001b[38;5;124muser_input\u001b[39m\u001b[38;5;124m'\u001b[39m])\n\u001b[0;32m     12\u001b[0m     ]\n\u001b[1;32m---> 13\u001b[0m     response \u001b[38;5;241m=\u001b[39m retriever_tool\u001b[38;5;241m.\u001b[39minvoke(messages)\n\u001b[0;32m     15\u001b[0m     \u001b[38;5;28mprint\u001b[39m(\u001b[38;5;124m\"\u001b[39m\u001b[38;5;124m================================= stock value calculation Setup =================================\u001b[39m\u001b[38;5;124m\"\u001b[39m)\n\u001b[0;32m     16\u001b[0m     \u001b[38;5;28mprint\u001b[39m(\u001b[38;5;124mf\u001b[39m\u001b[38;5;124m\"\u001b[39m\u001b[38;5;124m입력된 정보:\u001b[39m\u001b[38;5;132;01m{\u001b[39;00mstate[\u001b[38;5;124m'\u001b[39m\u001b[38;5;124muser_input\u001b[39m\u001b[38;5;124m'\u001b[39m]\u001b[38;5;132;01m}\u001b[39;00m\u001b[38;5;124m\"\u001b[39m)\n",
      "File \u001b[1;32m~\\anaconda3\\Lib\\site-packages\\langchain_core\\tools\\base.py:484\u001b[0m, in \u001b[0;36mBaseTool.invoke\u001b[1;34m(self, input, config, **kwargs)\u001b[0m\n\u001b[0;32m    477\u001b[0m \u001b[38;5;28;01mdef\u001b[39;00m \u001b[38;5;21minvoke\u001b[39m(\n\u001b[0;32m    478\u001b[0m     \u001b[38;5;28mself\u001b[39m,\n\u001b[0;32m    479\u001b[0m     \u001b[38;5;28minput\u001b[39m: Union[\u001b[38;5;28mstr\u001b[39m, \u001b[38;5;28mdict\u001b[39m, ToolCall],\n\u001b[0;32m    480\u001b[0m     config: Optional[RunnableConfig] \u001b[38;5;241m=\u001b[39m \u001b[38;5;28;01mNone\u001b[39;00m,\n\u001b[0;32m    481\u001b[0m     \u001b[38;5;241m*\u001b[39m\u001b[38;5;241m*\u001b[39mkwargs: Any,\n\u001b[0;32m    482\u001b[0m ) \u001b[38;5;241m-\u001b[39m\u001b[38;5;241m>\u001b[39m Any:\n\u001b[0;32m    483\u001b[0m     tool_input, kwargs \u001b[38;5;241m=\u001b[39m _prep_run_args(\u001b[38;5;28minput\u001b[39m, config, \u001b[38;5;241m*\u001b[39m\u001b[38;5;241m*\u001b[39mkwargs)\n\u001b[1;32m--> 484\u001b[0m     \u001b[38;5;28;01mreturn\u001b[39;00m \u001b[38;5;28mself\u001b[39m\u001b[38;5;241m.\u001b[39mrun(tool_input, \u001b[38;5;241m*\u001b[39m\u001b[38;5;241m*\u001b[39mkwargs)\n",
      "File \u001b[1;32m~\\anaconda3\\Lib\\site-packages\\langchain_core\\tools\\base.py:725\u001b[0m, in \u001b[0;36mBaseTool.run\u001b[1;34m(self, tool_input, verbose, start_color, color, callbacks, tags, metadata, run_name, run_id, config, tool_call_id, **kwargs)\u001b[0m\n\u001b[0;32m    723\u001b[0m \u001b[38;5;28;01mif\u001b[39;00m error_to_raise:\n\u001b[0;32m    724\u001b[0m     run_manager\u001b[38;5;241m.\u001b[39mon_tool_error(error_to_raise)\n\u001b[1;32m--> 725\u001b[0m     \u001b[38;5;28;01mraise\u001b[39;00m error_to_raise\n\u001b[0;32m    726\u001b[0m output \u001b[38;5;241m=\u001b[39m _format_output(content, artifact, tool_call_id, \u001b[38;5;28mself\u001b[39m\u001b[38;5;241m.\u001b[39mname, status)\n\u001b[0;32m    727\u001b[0m run_manager\u001b[38;5;241m.\u001b[39mon_tool_end(output, color\u001b[38;5;241m=\u001b[39mcolor, name\u001b[38;5;241m=\u001b[39m\u001b[38;5;28mself\u001b[39m\u001b[38;5;241m.\u001b[39mname, \u001b[38;5;241m*\u001b[39m\u001b[38;5;241m*\u001b[39mkwargs)\n",
      "File \u001b[1;32m~\\anaconda3\\Lib\\site-packages\\langchain_core\\tools\\base.py:689\u001b[0m, in \u001b[0;36mBaseTool.run\u001b[1;34m(self, tool_input, verbose, start_color, color, callbacks, tags, metadata, run_name, run_id, config, tool_call_id, **kwargs)\u001b[0m\n\u001b[0;32m    687\u001b[0m context \u001b[38;5;241m=\u001b[39m copy_context()\n\u001b[0;32m    688\u001b[0m context\u001b[38;5;241m.\u001b[39mrun(_set_config_context, child_config)\n\u001b[1;32m--> 689\u001b[0m tool_args, tool_kwargs \u001b[38;5;241m=\u001b[39m \u001b[38;5;28mself\u001b[39m\u001b[38;5;241m.\u001b[39m_to_args_and_kwargs(tool_input, tool_call_id)\n\u001b[0;32m    690\u001b[0m \u001b[38;5;28;01mif\u001b[39;00m signature(\u001b[38;5;28mself\u001b[39m\u001b[38;5;241m.\u001b[39m_run)\u001b[38;5;241m.\u001b[39mparameters\u001b[38;5;241m.\u001b[39mget(\u001b[38;5;124m\"\u001b[39m\u001b[38;5;124mrun_manager\u001b[39m\u001b[38;5;124m\"\u001b[39m):\n\u001b[0;32m    691\u001b[0m     tool_kwargs \u001b[38;5;241m=\u001b[39m tool_kwargs \u001b[38;5;241m|\u001b[39m {\u001b[38;5;124m\"\u001b[39m\u001b[38;5;124mrun_manager\u001b[39m\u001b[38;5;124m\"\u001b[39m: run_manager}\n",
      "File \u001b[1;32m~\\anaconda3\\Lib\\site-packages\\langchain_core\\tools\\simple.py:69\u001b[0m, in \u001b[0;36mTool._to_args_and_kwargs\u001b[1;34m(self, tool_input, tool_call_id)\u001b[0m\n\u001b[0;32m     65\u001b[0m \u001b[38;5;28;01mdef\u001b[39;00m \u001b[38;5;21m_to_args_and_kwargs\u001b[39m(\n\u001b[0;32m     66\u001b[0m     \u001b[38;5;28mself\u001b[39m, tool_input: Union[\u001b[38;5;28mstr\u001b[39m, \u001b[38;5;28mdict\u001b[39m], tool_call_id: Optional[\u001b[38;5;28mstr\u001b[39m]\n\u001b[0;32m     67\u001b[0m ) \u001b[38;5;241m-\u001b[39m\u001b[38;5;241m>\u001b[39m \u001b[38;5;28mtuple\u001b[39m[\u001b[38;5;28mtuple\u001b[39m, \u001b[38;5;28mdict\u001b[39m]:\n\u001b[0;32m     68\u001b[0m \u001b[38;5;250m    \u001b[39m\u001b[38;5;124;03m\"\"\"Convert tool input to pydantic model.\"\"\"\u001b[39;00m\n\u001b[1;32m---> 69\u001b[0m     args, kwargs \u001b[38;5;241m=\u001b[39m \u001b[38;5;28msuper\u001b[39m()\u001b[38;5;241m.\u001b[39m_to_args_and_kwargs(tool_input, tool_call_id)\n\u001b[0;32m     70\u001b[0m     \u001b[38;5;66;03m# For backwards compatibility. The tool must be run with a single input\u001b[39;00m\n\u001b[0;32m     71\u001b[0m     all_args \u001b[38;5;241m=\u001b[39m \u001b[38;5;28mlist\u001b[39m(args) \u001b[38;5;241m+\u001b[39m \u001b[38;5;28mlist\u001b[39m(kwargs\u001b[38;5;241m.\u001b[39mvalues())\n",
      "File \u001b[1;32m~\\anaconda3\\Lib\\site-packages\\langchain_core\\tools\\base.py:611\u001b[0m, in \u001b[0;36mBaseTool._to_args_and_kwargs\u001b[1;34m(self, tool_input, tool_call_id)\u001b[0m\n\u001b[0;32m    608\u001b[0m \u001b[38;5;28;01mif\u001b[39;00m \u001b[38;5;28mself\u001b[39m\u001b[38;5;241m.\u001b[39margs_schema \u001b[38;5;129;01mis\u001b[39;00m \u001b[38;5;129;01mnot\u001b[39;00m \u001b[38;5;28;01mNone\u001b[39;00m \u001b[38;5;129;01mand\u001b[39;00m \u001b[38;5;129;01mnot\u001b[39;00m get_fields(\u001b[38;5;28mself\u001b[39m\u001b[38;5;241m.\u001b[39margs_schema):\n\u001b[0;32m    609\u001b[0m     \u001b[38;5;66;03m# StructuredTool with no args\u001b[39;00m\n\u001b[0;32m    610\u001b[0m     \u001b[38;5;28;01mreturn\u001b[39;00m (), {}\n\u001b[1;32m--> 611\u001b[0m tool_input \u001b[38;5;241m=\u001b[39m \u001b[38;5;28mself\u001b[39m\u001b[38;5;241m.\u001b[39m_parse_input(tool_input, tool_call_id)\n\u001b[0;32m    612\u001b[0m \u001b[38;5;66;03m# For backwards compatibility, if run_input is a string,\u001b[39;00m\n\u001b[0;32m    613\u001b[0m \u001b[38;5;66;03m# pass as a positional argument.\u001b[39;00m\n\u001b[0;32m    614\u001b[0m \u001b[38;5;28;01mif\u001b[39;00m \u001b[38;5;28misinstance\u001b[39m(tool_input, \u001b[38;5;28mstr\u001b[39m):\n",
      "File \u001b[1;32m~\\anaconda3\\Lib\\site-packages\\langchain_core\\tools\\base.py:532\u001b[0m, in \u001b[0;36mBaseTool._parse_input\u001b[1;34m(self, tool_input, tool_call_id)\u001b[0m\n\u001b[0;32m    530\u001b[0m                 \u001b[38;5;28;01mraise\u001b[39;00m \u001b[38;5;167;01mValueError\u001b[39;00m(msg)\n\u001b[0;32m    531\u001b[0m             tool_input[k] \u001b[38;5;241m=\u001b[39m tool_call_id\n\u001b[1;32m--> 532\u001b[0m     result \u001b[38;5;241m=\u001b[39m input_args\u001b[38;5;241m.\u001b[39mmodel_validate(tool_input)\n\u001b[0;32m    533\u001b[0m     result_dict \u001b[38;5;241m=\u001b[39m result\u001b[38;5;241m.\u001b[39mmodel_dump()\n\u001b[0;32m    534\u001b[0m \u001b[38;5;28;01melif\u001b[39;00m \u001b[38;5;28missubclass\u001b[39m(input_args, BaseModelV1):\n",
      "File \u001b[1;32m~\\anaconda3\\Lib\\site-packages\\pydantic\\main.py:568\u001b[0m, in \u001b[0;36mBaseModel.model_validate\u001b[1;34m(cls, obj, strict, from_attributes, context)\u001b[0m\n\u001b[0;32m    566\u001b[0m \u001b[38;5;66;03m# `__tracebackhide__` tells pytest and some other tools to omit this function from tracebacks\u001b[39;00m\n\u001b[0;32m    567\u001b[0m __tracebackhide__ \u001b[38;5;241m=\u001b[39m \u001b[38;5;28;01mTrue\u001b[39;00m\n\u001b[1;32m--> 568\u001b[0m \u001b[38;5;28;01mreturn\u001b[39;00m \u001b[38;5;28mcls\u001b[39m\u001b[38;5;241m.\u001b[39m__pydantic_validator__\u001b[38;5;241m.\u001b[39mvalidate_python(\n\u001b[0;32m    569\u001b[0m     obj, strict\u001b[38;5;241m=\u001b[39mstrict, from_attributes\u001b[38;5;241m=\u001b[39mfrom_attributes, context\u001b[38;5;241m=\u001b[39mcontext\n\u001b[0;32m    570\u001b[0m )\n",
      "\u001b[1;31mValidationError\u001b[0m: 1 validation error for RetrieverInput\n  Input should be a valid dictionary or instance of RetrieverInput [type=model_type, input_value=[('system', \"\\n        ...human', '삼성전자')], input_type=list]\n    For further information visit https://errors.pydantic.dev/2.8/v/model_type",
      "\u001b[0mDuring task with name 'Stock Value Calculation Setup' and id '2885ea2f-df5a-76b0-5b4e-ca99719408e7'"
     ]
    }
   ],
   "source": [
    "# 그래프 전체적으로 사용할 State를 정의\n",
    "class OverallState(TypedDict):\n",
    "    user_input: str\n",
    "    messages: Annotated[list, add_messages]\n",
    "    stock_value_dict: dict\n",
    "\n",
    "# 그래프를 만드는 builder를 정의. input을 지정해주지 않으면 OverallState를 START에서 Input으로 요구하게 됨.\n",
    "graph_builder = StateGraph(OverallState, input=InputState)\n",
    "\n",
    "# 그래프의 Node를 추가함. 노드의 이름과 노드 함수를 인자로 받음.\n",
    "graph_builder.add_node(\"User Input\", user_input_node)\n",
    "graph_builder.add_node(\"Stock Value Calculation Setup\", stock_value_calculation_node)\n",
    "\n",
    "# 그래프의 Edge를 추가함. 시작과 끝은 항상 START에서 END로 가야함\n",
    "graph_builder.add_edge(START, \"User Input\")\n",
    "graph_builder.add_edge(\"User Input\", \"Stock Value Calculation Setup\")\n",
    "graph_builder.add_edge(\"Stock Value Calculation Setup\", END) # 노드에 순서에 맞추어 엣지를 조금 변경하자.\n",
    "\n",
    "# 해당 그래프를 컴파일\n",
    "graph = graph_builder.compile()\n",
    "\n",
    "# 해당 그래프의 도식을 그려서 저장\n",
    "with open(\"graph_output1.png\", \"wb\") as f:\n",
    "    f.write(graph.get_graph().draw_mermaid_png())\n",
    "\n",
    "config = {\"configurable\": {\"thread_id\": \"1\"}}\n",
    "\n",
    "# 그래프 호출. 아까 이야기 했듯 start_input에는 아무것도 입력하지 않음.\n",
    "# 여기서도 마찬가지로 dict형태의 입력이 요구됨.\n",
    "graph.invoke({\"start_input\": \"\"})"
   ]
  },
  {
   "cell_type": "code",
   "execution_count": null,
   "id": "6e0b2b2f-5c4e-4496-92c0-7c121288ca48",
   "metadata": {},
   "outputs": [],
   "source": []
  }
 ],
 "metadata": {
  "kernelspec": {
   "display_name": "Python 3 (ipykernel)",
   "language": "python",
   "name": "python3"
  },
  "language_info": {
   "codemirror_mode": {
    "name": "ipython",
    "version": 3
   },
   "file_extension": ".py",
   "mimetype": "text/x-python",
   "name": "python",
   "nbconvert_exporter": "python",
   "pygments_lexer": "ipython3",
   "version": "3.12.7"
  }
 },
 "nbformat": 4,
 "nbformat_minor": 5
}
