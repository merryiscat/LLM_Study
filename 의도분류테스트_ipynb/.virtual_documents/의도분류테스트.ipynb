# API KEY를 환경변수로 관리하기 위한 설정 파일
from dotenv import load_dotenv

# API KEY 정보로드
load_dotenv()


test_data = [
    {"user_input": "오늘 뭐 먹을까?", "label": "음식추천요청"},
    {"user_input": "점심 메뉴 추천해줘", "label": "음식추천요청"},
    {"user_input": "저녁에 먹을 만한 거 있을까?", "label": "음식추천요청"},
    {"user_input": "혼밥으로 괜찮은 음식 뭐 있을까?", "label": "음식추천요청"},
    {"user_input": "다이어트 중인데 먹을만한 거 있어?", "label": "음식추천요청"},
    {"user_input": "야식 뭐가 좋을까?", "label": "음식추천요청"},
    {"user_input": "지금 배고픈데 뭐 먹지?", "label": "음식추천요청"},
    {"user_input": "추울 때 먹기 좋은 음식 뭐야?", "label": "음식추천요청"},
    {"user_input": "더운 날엔 뭐가 최고야?", "label": "음식추천요청"},
    {"user_input": "비 오는 날 딱인 음식 추천해줘", "label": "음식추천요청"},
    {"user_input": "친구랑 같이 먹을 음식 뭐가 좋을까?", "label": "음식추천요청"},
    {"user_input": "든든한 한 끼 뭐 먹을까?", "label": "음식추천요청"},
    {"user_input": "해장하기 좋은 음식 있을까?", "label": "음식추천요청"},
    {"user_input": "간단히 먹을만한 메뉴 알려줘", "label": "음식추천요청"},
    {"user_input": "매운 음식 땡기는데 뭐가 있을까?", "label": "음식추천요청"},
    {"user_input": "달콤한 거 먹고 싶은데 뭐 먹지?", "label": "음식추천요청"},
    {"user_input": "입맛이 없을 땐 뭘 먹는 게 좋아?", "label": "음식추천요청"},
    {"user_input": "아침 안 먹었는데 지금 뭐 먹지?", "label": "음식추천요청"},
    {"user_input": "고기 말고 다른 거 추천해줘", "label": "음식추천요청"},
    {"user_input": "뭔가 특별한 음식 먹고 싶어", "label": "음식추천요청"},
    {"user_input": "회식 메뉴로 좋은 거 뭐야?", "label": "음식추천요청"},
    {"user_input": "피자랑 햄버거 중 뭐가 나을까?", "label": "음식추천요청"},
    {"user_input": "간단하게 때울만한 메뉴 있어?", "label": "음식추천요청"},
    {"user_input": "뭘 먹어야 기분이 좋아질까?", "label": "음식추천요청"},
    {"user_input": "저녁 혼자 먹을 건데 추천 좀!", "label": "음식추천요청"},
    {"user_input": "강남역 근처 맛집 알려줘", "label": "식당검색요청"},
    {"user_input": "수진역에 괜찮은 술집 있어?", "label": "식당검색요청"},
    {"user_input": "지금 위치 주변 식당 찾아줘", "label": "식당검색요청"},
    {"user_input": "데이트하기 좋은 레스토랑 어디야?", "label": "식당검색요청"},
    {"user_input": "가족 외식하기 좋은 곳 알려줘", "label": "식당검색요청"},
    {"user_input": "혼밥하기 편한 식당 있어?", "label": "식당검색요청"},
    {"user_input": "회사 근처 점심 맛집 추천해줘", "label": "식당검색요청"},
    {"user_input": "야식 먹을 수 있는 식당 찾아줘", "label": "식당검색요청"},
    {"user_input": "24시간 하는 식당 어디야?", "label": "식당검색요청"},
    {"user_input": "비 오는 날 분위기 좋은 카페 있어?", "label": "식당검색요청"},
    {"user_input": "김치찌개 맛있는 집 어디야?", "label": "식당검색요청"},
    {"user_input": "저렴하고 맛있는 식당 추천해줘", "label": "식당검색요청"},
    {"user_input": "예약 가능한 고깃집 있니?", "label": "식당검색요청"},
    {"user_input": "친구들이랑 갈만한 이자카야 추천해줘", "label": "식당검색요청"},
    {"user_input": "뷔페 잘하는 곳 있어?", "label": "식당검색요청"},
    {"user_input": "해장국 맛집 어디 있어?", "label": "식당검색요청"},
    {"user_input": "혼자 가도 좋은 분식집 알려줘", "label": "식당검색요청"},
    {"user_input": "맛있는 파스타 집 어디야?", "label": "식당검색요청"},
    {"user_input": "수제버거 맛있는 데 어디야?", "label": "식당검색요청"},
    {"user_input": "뷰 좋은 카페 좀 알려줘", "label": "식당검색요청"},
    {"user_input": "데이트 코스에 어울릴 식당 추천해줘", "label": "식당검색요청"},
    {"user_input": "회사 회식하기 좋은 식당 찾아줘", "label": "식당검색요청"},
    {"user_input": "요즘 핫한 맛집 어디야?", "label": "식당검색요청"},
    {"user_input": "리뷰 좋은 곳 위주로 찾아줘", "label": "식당검색요청"},
    {"user_input": "한식 맛집 추천 좀 해줘", "label": "식당검색요청"},
    {"user_input": "안녕하세요!", "label": "일상대화"},
    {"user_input": "요즘 날씨 진짜 덥네요", "label": "일상대화"},
    {"user_input": "잘 지내시죠?", "label": "일상대화"},
    {"user_input": "오늘 하루 어땠어?", "label": "일상대화"},
    {"user_input": "그냥 심심해서 들어왔어요", "label": "일상대화"},
    {"user_input": "너무 좋아요!", "label": "일상대화"},
    {"user_input": "이런 기능도 있네요, 신기해요", "label": "일상대화"},
    {"user_input": "와 대박이에요!", "label": "일상대화"},
    {"user_input": "이런 거 알려줘서 고마워요", "label": "일상대화"},
    {"user_input": "너랑 얘기하니까 재밌어", "label": "일상대화"},
    {"user_input": "저 오늘 기분이 좋아요", "label": "일상대화"},
    {"user_input": "지금 커피 마시고 있어요", "label": "일상대화"},
    {"user_input": "점심 뭐 먹었어요?", "label": "일상대화"},
    {"user_input": "주말에 뭐 했어요?", "label": "일상대화"},
    {"user_input": "그거 진짜 좋은 아이디어예요!", "label": "일상대화"},
    {"user_input": "오늘 하루도 파이팅!", "label": "일상대화"},
    {"user_input": "요즘 일 너무 많아서 힘들어요", "label": "일상대화"},
    {"user_input": "응원해줘서 고마워요", "label": "일상대화"},
    {"user_input": "대화할 수 있어서 좋아요", "label": "일상대화"},
    {"user_input": "방금 일 끝났어요", "label": "일상대화"},
    {"user_input": "그냥 생각 정리하려고 얘기 중이에요", "label": "일상대화"},
    {"user_input": "이건 처음 해보는 거예요", "label": "일상대화"},
    {"user_input": "뭔가 새로운 걸 배우고 싶어요", "label": "일상대화"},
    {"user_input": "너는 어떻게 지내?", "label": "일상대화"},
    {"user_input": "오늘 날씨가 흐려서 그런가 기분이 처져요", "label": "일상대화"},
    {"user_input": "내일 비 오나?", "label": "그외기타"},
    {"user_input": "영어로 번역해줘", "label": "그외기타"},
    {"user_input": "코딩 질문 하나 해도 될까?", "label": "그외기타"},
    {"user_input": "이거 계산 좀 해줘", "label": "그외기타"},
    {"user_input": "PDF 파일 열 수 있어?", "label": "그외기타"},
    {"user_input": "지금 시간 알려줘", "label": "그외기타"},
    {"user_input": "서울에서 부산까지 얼마나 걸려?", "label": "그외기타"},
    {"user_input": "이 사진 뭐 같아 보여?", "label": "그외기타"},
    {"user_input": "요리 레시피 알려줘", "label": "그외기타"},
    {"user_input": "유명한 철학자 이름 알려줘", "label": "그외기타"},
    {"user_input": "AI 기술에 대해 설명해줘", "label": "그외기타"},
    {"user_input": "최신 뉴스 알려줘", "label": "그외기타"},
    {"user_input": "오늘의 운세 알려줘", "label": "그외기타"},
    {"user_input": "내 일정 좀 정리해줘", "label": "그외기타"},
    {"user_input": "이 문장 맞춤법 확인해줘", "label": "그외기타"},
    {"user_input": "JSON 형식으로 바꿔줘", "label": "그외기타"},
    {"user_input": "너 GPT-4야?", "label": "그외기타"},
    {"user_input": "오늘의 날씨는?", "label": "그외기타"},
    {"user_input": "컴퓨터가 자꾸 꺼져", "label": "그외기타"},
    {"user_input": "이 글 요약해줘", "label": "그외기타"},
    {"user_input": "링크 열 수 있어?", "label": "그외기타"},
    {"user_input": "주식 추천해줘", "label": "그외기타"},
    {"user_input": "여행 일정 짜줘", "label": "그외기타"},
    {"user_input": "이모티콘 추천해줘", "label": "그외기타"},
    {"user_input": "네가 추천하는 책 있어?", "label": "그외기타"}
]


from langchain.prompts import ChatPromptTemplate
from langchain_openai import ChatOpenAI  # ✅ 수정된 부분
from langchain_core.runnables import RunnableLambda
from pydantic import BaseModel
import json

# 1. Pydantic 모델 정의
class IntentclassifyOutput(BaseModel):
    intent: str

# 2. 프롬프트 정의
intent_classify_prompt = ChatPromptTemplate.from_template("""
다음 사용자 문장에서 사용자의 의도를 다음 중 하나로 분류하시오.

1. 음식추천요청 (ex. 오늘 저녁 뭐 먹을까?, 뭐 먹지?, 점심 메뉴 골라줘 등)
2. 식당검색요청 (ex. 수진역 근처 술집 추천해줘, 근처 맛집 찾아줘 등)
3. 일상대화(ex. 안녕하세요, 너무 좋아요, 잘 지내세요 등)
4. 그외기타                         

답변 표출 형식은 아래와 같이 의도만 표출하여 주세요.
{{"intent": "음식추천요청"}}

[사용자 입력]
{user_input}
""")

# 3. LLM과 파서
llm = ChatOpenAI(model="gpt-4o", temperature=0)  # gpt-4o-mini가 아니라 "gpt-4o" 사용

# JSON 문자열을 파싱하고 BaseModel로 변환
parser = RunnableLambda(lambda x: IntentclassifyOutput(**json.loads(x.content)))

# LangChain 체인 구성
intent_classify_chain = intent_classify_prompt | llm | parser


# 5. 예측 결과 수집
results = []
for sample in tqdm(test_data):
    try:
        result = intent_classify_chain.invoke({"user_input": sample["user_input"]})
        results.append({
            "user_input": sample["user_input"],
            "gpt_intent": result["intent"],
            "label": sample["label"]
        })
    except Exception as e:
        results.append({
            "user_input": sample["user_input"],
            "gpt_intent": "error",
            "label": sample["label"]
        })

