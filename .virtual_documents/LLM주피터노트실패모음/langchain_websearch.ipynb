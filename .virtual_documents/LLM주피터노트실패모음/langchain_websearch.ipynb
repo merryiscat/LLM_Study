# API KEY를 환경변수로 관리하기 위한 설정 파일
from dotenv import load_dotenv

# API KEY 정보로드
load_dotenv()


from langchain_teddynote import logging

# 프로젝트 이름을 입력합니다.
logging.langsmith("주식분석")


# 필요한 모듈 임포트
from langchain_openai import ChatOpenAI, OpenAIEmbeddings
from langchain_community.vectorstores import FAISS
from langchain_text_splitters import RecursiveCharacterTextSplitter
from langchain_community.document_loaders import PyMuPDFLoader
from langchain_core.output_parsers import StrOutputParser
from langchain_core.runnables import RunnablePassthrough
from langchain_core.prompts import PromptTemplate
from langchain.utilities import GoogleSerperAPIWrapper
from langchain.agents import Tool, AgentExecutor, create_react_agent
from datetime import datetime


# 1. 오늘 날짜 확인용 함수
def get_today():
    return datetime.today().strftime('%Y-%m-%d')

# 오늘 날짜 확인 도구 생성
def get_today_tool(input: str) -> str:
    return get_today()

today_tool = Tool(
    name="Get Today",
    func=get_today_tool,
    description="Returns today's date in YYYY-MM-DD format",
    verbose=True
)


# 3. 모델(LLM) 생성
llm = ChatOpenAI(
    temperature=0.1,
    max_tokens=2048,
    model_name="gpt-4o-mini"  # 사용할 GPT 모델 설정
)


## : 문서 로드(Load Documents)
loader = PyMuPDFLoader("stock_report/[HD현대]분기보고서(2024.11.14).pdf")
docs = loader.load()





## : 문서 분할(Split Documents)
text_splitter = RecursiveCharacterTextSplitter(chunk_size=1000, chunk_overlap=50)
split_documents = text_splitter.split_documents(docs)


## 단계 3: 임베딩(Embedding) 생성
embeddings = OpenAIEmbeddings()


## 단계 4: DB 생성(Create DB) 및 저장
# 벡터스토어를 생성합니다.
vectorstore = FAISS.from_documents(documents=split_documents, embedding=embeddings)


# 5. 검색기(Retriever) 생성
retriever = vectorstore.as_retriever(search_kwargs={"k": 10})


# RAG 도구 생성
def rag_tool(input: str) -> str:
    docs = retriever.get_relevant_documents(input)
    
    # 예외 처리: 검색 결과가 없거나 비어있을 때
    if not docs:  # None, Empty List 모두 처리
        print("[RAG Search] 검색 결과가 없습니다. 다음 질문을 시도해주세요.")
        return "검색 결과가 없습니다. 더 구체적인 질문을 해주세요."
    
    # 예외 처리: 검색 결과가 있으나 내용이 비어 있을 때
    if all(not doc.page_content.strip() for doc in docs):
        print("[RAG Search] 검색 결과는 있으나 내용이 비어 있습니다.")
        return "관련된 내용이 없습니다. 다른 질문을 시도해주세요."
    
    return "\n".join([doc.page_content for doc in docs])

rag_search_tool = Tool(
    name="RAG Search",
    func=rag_tool,
    description="Useful for when you need to search from the semi-annual report",
    verbose=True
)


# 6. tools 리스트에 추가
tools = [
    Tool(
        name="Google Search",
        func=google_search.run,
        description="Useful for when you need to search with Google",
        verbose=True
    ),
    today_tool,
    rag_search_tool
]


# tools 이름 리스트 업데이트
tool_names = ", ".join([tool.name for tool in tools])


# 7. PromptTemplate 정의
template = '''You are a skilled financial analyst.

1. Analyze the Question and think about the necessary information required to provide the Final Answer.
2. Use the thought process to formulate the Action Input.
3. Use the RAG Search tool to retrieve relevant information from the vector store.
4. Only use Google Search if the information cannot be found in the vector store.
5. If the desired result is not obtained, modify the Action Input and continue searching for information.
6. The Final Answer must be written in Korean.
7. RAG Search should not search with the same Action Input repeatedly.:

Tools available:
{tools}

Use the following format:

Question: the input question you must answer
Thought: you should always think about what to do
Action: the action to take, should be one of [{tool_names}]
Action Input: the input to the action
Observation: the result of the action
... (this Thought/Action/Action Input/Observation can repeat N times)
Thought: I now know the final answer
Final Answer: the final answer to the original input question

Begin!

Question: {input}
Thought:{agent_scratchpad}'''


# 8. PromptTemplate에 tool_names 전달
prompt = PromptTemplate.from_template(template).partial(
    tool_names=tool_names,
    tools="\n".join([f"- {tool.name}: {tool.description}" for tool in tools])
)


# 9. React Agent 생성
search_agent = create_react_agent(llm, tools, prompt)


# 10. Agent Executor 생성
agent_executor = AgentExecutor(
    agent=search_agent,
    tools=tools,
    verbose=True,
    return_intermediate_steps=True,
    handle_parsing_errors=True
)


# 11. 입력 질문을 통해 Agent 실행
response = agent_executor.invoke({
    "input": "현대hd 주식의 적정가 책정해봐.",
    "today_date": get_today()  # 오늘 날짜를 추가
})

# 12. 결과 출력
print(response)



